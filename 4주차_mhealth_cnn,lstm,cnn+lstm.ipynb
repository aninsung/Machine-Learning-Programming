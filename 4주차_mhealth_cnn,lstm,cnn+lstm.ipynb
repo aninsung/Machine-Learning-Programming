{
  "nbformat": 4,
  "nbformat_minor": 0,
  "metadata": {
    "colab": {
      "provenance": [],
      "gpuType": "V5E1",
      "mount_file_id": "https://github.com/aninsung/Machine-Learning-Programming/blob/main/4%EC%A3%BC%EC%B0%A8_mhealth_LLM.ipynb",
      "authorship_tag": "ABX9TyNU2n2kakPdIPO+HZcrXtyy",
      "include_colab_link": true
    },
    "kernelspec": {
      "name": "python3",
      "display_name": "Python 3"
    },
    "language_info": {
      "name": "python"
    },
    "accelerator": "TPU"
  },
  "cells": [
    {
      "cell_type": "markdown",
      "metadata": {
        "id": "view-in-github",
        "colab_type": "text"
      },
      "source": [
        "<a href=\"https://colab.research.google.com/github/aninsung/Machine-Learning-Programming/blob/main/4%EC%A3%BC%EC%B0%A8_mhealth_LLM.ipynb\" target=\"_parent\"><img src=\"https://colab.research.google.com/assets/colab-badge.svg\" alt=\"Open In Colab\"/></a>"
      ]
    },
    {
      "cell_type": "markdown",
      "source": [
        "## (오늘 실습과제)\n",
        "\n",
        "Mhealth dataset으로 인간행동 분류하기\n",
        "\n",
        "일단 데이터 읽어서 subject 번호가 컬럼면에 포함된 통합 data frame 만들고 CNN, LSTM, CNN-LSTM 해보기.\n",
        "\n",
        "1. LLM(sLLM)을 제외한 어떤 모델을 써도 가능. 단 라이브러리 import 불가. 모델의 풀 소스가 있어야 함.\n",
        "\n",
        " 2. 10명을 1+2, 3+4, 4+5,.... 5개그룹으로 나눠 2명씩 테스트 데이터로 하면서 cross validation.\n",
        "\n",
        " 3. 데이터 증대는 안됨.\n",
        "\n",
        "4. 오직 모델로만 성능 향상\n",
        "\n",
        "5. 상위 30%씩 차등.\n",
        "\n",
        "6. 성적에 반영\n",
        "\n",
        "7. 11월15일까지. Github게시\n",
        "\n",
        "교차 평가로 평균 F1 기준.\n",
        "\n",
        "8. 본인이 완벽하게 소스 및 모델을 설명할 수 있어야 함. GPT를 쓰던 뭘 쓰던 그건 상관안함. 재현성이 보장되어야 함.\n",
        "--------------------------------------------------------------------------\n",
        "--------------------------------------------------------------------------"
      ],
      "metadata": {
        "id": "Kzbk4hbgc2Rx"
      }
    },
    {
      "cell_type": "markdown",
      "source": [
        "## 데이터설명\n",
        "📌 Dataset Summary\n",
        "\n",
        "Subjects: 10명 (다양한 프로필의 자원자)\n",
        "\n",
        "Activities: 12개\n",
        "\n",
        "Sensors: 3개 (가슴, 오른쪽 손목, 왼쪽 발목 → elastic strap으로 고정)\n",
        "\n",
        "측정 정보:\n",
        "\n",
        "Acceleration (가속도)\n",
        "\n",
        "Gyroscope (회전율)\n",
        "\n",
        "Magnetometer (자기장 방향)\n",
        "\n",
        "Chest sensor: 2-lead ECG 추가 (활동 인식에는 사용 안 함, 향후 연구용)\n",
        "\n",
        "Sampling Rate: 50 Hz\n",
        "\n",
        "환경: Out-of-lab, 제약 없이 자유롭게 활동 수행 (단, 최선을 다해 실행)\n",
        "\n",
        "📌 Activity Set (12 classes)\n",
        "\n",
        "정적 활동: Standing still, Sitting, Lying down\n",
        "\n",
        "일상/이동 활동: Walking, Climbing stairs, Cycling\n",
        "\n",
        "운동/역동적 활동: Jogging, Running, Jump front & back\n",
        "\n",
        "반복 동작: Waist bends, Arm elevation, Knees bending\n",
        "\n",
        "📌 특징\n",
        "\n",
        "ECG 포함: 운동 중 심전도 기록 → 부정맥, 심박수 모니터링, 운동 효과 분석 가능\n",
        "\n",
        "다양성 확보:\n",
        "\n",
        "동작 강도 차이 (예: Sitting vs. Running)\n",
        "\n",
        "속도 차이 (예: Walking vs. Jogging)\n",
        "\n",
        "다른 신체 부위 동작 (예: Arm elevation vs. Knees bending)\n",
        "\n",
        "실생활 반영: 실제 환경에서 수행되어 일반화 성능 높음"
      ],
      "metadata": {
        "id": "NYZGoj3bciYh"
      }
    },
    {
      "cell_type": "code",
      "source": [
        "import pandas as pd\n",
        "import glob\n",
        "import numpy as np\n",
        "\n",
        "# 1. 파일 리스트\n",
        "files = sorted(glob.glob(\"/content/drive/MyDrive/Colab Notebooks/mhealth+dataset/MHEALTHDATASET/mHealth_subject*.log\"))\n",
        "\n",
        "# 2. 컬럼 정의\n",
        "columns = [\n",
        "    \"chest_acc_x\",\"chest_acc_y\",\"chest_acc_z\",\n",
        "    \"ecg_1\",\"ecg_2\",\n",
        "    \"chest_gyro_x\",\"chest_gyro_y\",\"chest_gyro_z\",\n",
        "    \"chest_mag_x\",\"chest_mag_y\",\"chest_mag_z\",\n",
        "    \"ankle_acc_x\",\"ankle_acc_y\",\"ankle_acc_z\",\n",
        "    \"ankle_gyro_x\",\"ankle_gyro_y\",\"ankle_gyro_z\",\n",
        "    \"ankle_mag_x\",\"ankle_mag_y\",\"ankle_mag_z\",\n",
        "    \"wrist_acc_x\",\"wrist_acc_y\",\"wrist_acc_z\",\n",
        "    \"label\"\n",
        "]\n",
        "\n",
        "# 3. 각 파일 읽어서 subject_id 추가\n",
        "dfs = []\n",
        "for i, file in enumerate(files, start=1):\n",
        "    df = pd.read_csv(file, sep=\"\\s+\", header=None)\n",
        "    df.columns = columns\n",
        "    df[\"subject_id\"] = i\n",
        "    dfs.append(df)\n",
        "\n",
        "# 4. 통합 DataFrame\n",
        "data = pd.concat(dfs, ignore_index=True)\n"
      ],
      "metadata": {
        "id": "D1Aa1xO4LxT5",
        "colab": {
          "base_uri": "https://localhost:8080/"
        },
        "outputId": "d0513dea-74d1-4ca9-9b4f-ff27dc4959c1"
      },
      "execution_count": 23,
      "outputs": [
        {
          "output_type": "stream",
          "name": "stderr",
          "text": [
            "<>:24: SyntaxWarning: invalid escape sequence '\\s'\n",
            "<>:24: SyntaxWarning: invalid escape sequence '\\s'\n",
            "/tmp/ipython-input-4155912323.py:24: SyntaxWarning: invalid escape sequence '\\s'\n",
            "  df = pd.read_csv(file, sep=\"\\s+\", header=None)\n"
          ]
        }
      ]
    },
    {
      "cell_type": "code",
      "source": [
        "def create_windows(df, frame_size=100, hop_size=50):\n",
        "    X, y = [], []\n",
        "    data_values = df.drop([\"label\", \"subject_id\"], axis=1).values\n",
        "    labels = df[\"label\"].values\n",
        "    for i in range(0, len(data_values)-frame_size, hop_size):\n",
        "        X.append(data_values[i:i+frame_size])\n",
        "        y.append(labels[i+frame_size-1])  # 마지막 시점 label\n",
        "    return np.array(X), np.array(y)\n"
      ],
      "metadata": {
        "id": "md-2RokFUIAY"
      },
      "execution_count": 24,
      "outputs": []
    },
    {
      "cell_type": "code",
      "source": [
        "from tensorflow.keras.models import Sequential\n",
        "from tensorflow.keras.layers import Conv1D, MaxPooling1D, Flatten, Dense, LSTM\n",
        "\n",
        "n_classes = data[\"label\"].nunique()\n",
        "n_features = data.drop([\"label\",\"subject_id\"],axis=1).shape[1]\n",
        "timesteps = 100  # frame_size\n",
        "\n",
        "# CNN 모델\n",
        "def build_cnn():\n",
        "    model = Sequential([\n",
        "        Conv1D(64, 3, activation=\"relu\", input_shape=(timesteps, n_features)),\n",
        "        MaxPooling1D(2),\n",
        "        Flatten(),\n",
        "        Dense(64, activation=\"relu\"),\n",
        "        Dense(n_classes, activation=\"softmax\")\n",
        "    ])\n",
        "    model.compile(optimizer=\"adam\", loss=\"sparse_categorical_crossentropy\", metrics=[\"accuracy\"])\n",
        "    return model\n",
        "\n",
        "# LSTM 모델\n",
        "def build_lstm():\n",
        "    model = Sequential([\n",
        "        LSTM(64, input_shape=(timesteps, n_features)),\n",
        "        Dense(64, activation=\"relu\"),\n",
        "        Dense(n_classes, activation=\"softmax\")\n",
        "    ])\n",
        "    model.compile(optimizer=\"adam\", loss=\"sparse_categorical_crossentropy\", metrics=[\"accuracy\"])\n",
        "    return model\n",
        "\n",
        "# CNN-LSTM 모델\n",
        "def build_cnn_lstm():\n",
        "    model = Sequential([\n",
        "        Conv1D(64,3, activation=\"relu\", input_shape=(timesteps, n_features)),\n",
        "        MaxPooling1D(2),\n",
        "        LSTM(64),\n",
        "        Dense(64, activation=\"relu\"),\n",
        "        Dense(n_classes, activation=\"softmax\")\n",
        "    ])\n",
        "    model.compile(optimizer=\"adam\", loss=\"sparse_categorical_crossentropy\", metrics=[\"accuracy\"])\n",
        "    return model\n"
      ],
      "metadata": {
        "id": "dHMBc8H9Kh0T"
      },
      "execution_count": 25,
      "outputs": []
    },
    {
      "cell_type": "code",
      "source": [
        "subjects = np.arange(1,11)\n",
        "folds = [(subjects[i], subjects[i+1]) for i in range(0,10,2)]\n",
        "\n",
        "for fold_idx, test_subjects in enumerate(folds, start=1):\n",
        "    # Train/Test 분리\n",
        "    test_data = data[data[\"subject_id\"].isin(test_subjects)]\n",
        "    train_data = data[~data[\"subject_id\"].isin(test_subjects)]\n",
        "\n",
        "    # 윈도우 생성\n",
        "    X_train, y_train = create_windows(train_data, frame_size=timesteps, hop_size=50)\n",
        "    X_test, y_test = create_windows(test_data, frame_size=timesteps, hop_size=50)\n",
        "\n",
        "    print(f\"\\n=== Fold {fold_idx}: Test subjects {test_subjects} ===\")\n",
        "    print(\"Samples:\", X_train.shape[0], \"(train)\", X_test.shape[0], \"(test)\")\n",
        "\n",
        "    # 모델 선택\n",
        "    model = build_cnn()  # CNN, LSTM, CNN-LSTM 중 선택\n",
        "    # model = build_lstm()\n",
        "    # model = build_cnn_lstm()\n",
        "\n",
        "    # 학습\n",
        "    model.fit(X_train, y_train, epochs=5, batch_size=64, verbose=1)\n",
        "\n",
        "    # 평가\n",
        "    loss, acc = model.evaluate(X_test, y_test, verbose=0)\n",
        "    print(f\"Test Accuracy: {acc:.4f}\")\n"
      ],
      "metadata": {
        "id": "KQxgWevxD2cv",
        "colab": {
          "base_uri": "https://localhost:8080/"
        },
        "outputId": "c1acecc7-a9da-4df7-fbd9-fd65d4ced7a1"
      },
      "execution_count": 26,
      "outputs": [
        {
          "output_type": "stream",
          "name": "stdout",
          "text": [
            "\n",
            "=== Fold 1: Test subjects (np.int64(1), np.int64(2)) ===\n",
            "Samples: 19122 (train) 5190 (test)\n"
          ]
        },
        {
          "output_type": "stream",
          "name": "stderr",
          "text": [
            "/usr/local/lib/python3.12/dist-packages/keras/src/layers/convolutional/base_conv.py:113: UserWarning: Do not pass an `input_shape`/`input_dim` argument to a layer. When using Sequential models, prefer using an `Input(shape)` object as the first layer in the model instead.\n",
            "  super().__init__(activity_regularizer=activity_regularizer, **kwargs)\n"
          ]
        },
        {
          "output_type": "stream",
          "name": "stdout",
          "text": [
            "Epoch 1/5\n",
            "\u001b[1m299/299\u001b[0m \u001b[32m━━━━━━━━━━━━━━━━━━━━\u001b[0m\u001b[37m\u001b[0m \u001b[1m5s\u001b[0m 14ms/step - accuracy: 0.6453 - loss: 3.0611\n",
            "Epoch 2/5\n",
            "\u001b[1m299/299\u001b[0m \u001b[32m━━━━━━━━━━━━━━━━━━━━\u001b[0m\u001b[37m\u001b[0m \u001b[1m6s\u001b[0m 20ms/step - accuracy: 0.7875 - loss: 0.5067\n",
            "Epoch 3/5\n",
            "\u001b[1m299/299\u001b[0m \u001b[32m━━━━━━━━━━━━━━━━━━━━\u001b[0m\u001b[37m\u001b[0m \u001b[1m4s\u001b[0m 13ms/step - accuracy: 0.8191 - loss: 0.3953\n",
            "Epoch 4/5\n",
            "\u001b[1m299/299\u001b[0m \u001b[32m━━━━━━━━━━━━━━━━━━━━\u001b[0m\u001b[37m\u001b[0m \u001b[1m4s\u001b[0m 13ms/step - accuracy: 0.8415 - loss: 0.3442\n",
            "Epoch 5/5\n",
            "\u001b[1m299/299\u001b[0m \u001b[32m━━━━━━━━━━━━━━━━━━━━\u001b[0m\u001b[37m\u001b[0m \u001b[1m6s\u001b[0m 20ms/step - accuracy: 0.8550 - loss: 0.3150\n",
            "Test Accuracy: 0.7778\n",
            "\n",
            "=== Fold 2: Test subjects (np.int64(3), np.int64(4)) ===\n",
            "Samples: 19260 (train) 5052 (test)\n"
          ]
        },
        {
          "output_type": "stream",
          "name": "stderr",
          "text": [
            "/usr/local/lib/python3.12/dist-packages/keras/src/layers/convolutional/base_conv.py:113: UserWarning: Do not pass an `input_shape`/`input_dim` argument to a layer. When using Sequential models, prefer using an `Input(shape)` object as the first layer in the model instead.\n",
            "  super().__init__(activity_regularizer=activity_regularizer, **kwargs)\n"
          ]
        },
        {
          "output_type": "stream",
          "name": "stdout",
          "text": [
            "Epoch 1/5\n",
            "\u001b[1m301/301\u001b[0m \u001b[32m━━━━━━━━━━━━━━━━━━━━\u001b[0m\u001b[37m\u001b[0m \u001b[1m5s\u001b[0m 14ms/step - accuracy: 0.6586 - loss: 2.6578\n",
            "Epoch 2/5\n",
            "\u001b[1m301/301\u001b[0m \u001b[32m━━━━━━━━━━━━━━━━━━━━\u001b[0m\u001b[37m\u001b[0m \u001b[1m7s\u001b[0m 20ms/step - accuracy: 0.7874 - loss: 0.5578\n",
            "Epoch 3/5\n",
            "\u001b[1m301/301\u001b[0m \u001b[32m━━━━━━━━━━━━━━━━━━━━\u001b[0m\u001b[37m\u001b[0m \u001b[1m8s\u001b[0m 13ms/step - accuracy: 0.8232 - loss: 0.3877\n",
            "Epoch 4/5\n",
            "\u001b[1m301/301\u001b[0m \u001b[32m━━━━━━━━━━━━━━━━━━━━\u001b[0m\u001b[37m\u001b[0m \u001b[1m6s\u001b[0m 20ms/step - accuracy: 0.8496 - loss: 0.3315\n",
            "Epoch 5/5\n",
            "\u001b[1m301/301\u001b[0m \u001b[32m━━━━━━━━━━━━━━━━━━━━\u001b[0m\u001b[37m\u001b[0m \u001b[1m4s\u001b[0m 14ms/step - accuracy: 0.8622 - loss: 0.3079\n",
            "Test Accuracy: 0.7928\n",
            "\n",
            "=== Fold 3: Test subjects (np.int64(5), np.int64(6)) ===\n",
            "Samples: 19583 (train) 4729 (test)\n"
          ]
        },
        {
          "output_type": "stream",
          "name": "stderr",
          "text": [
            "/usr/local/lib/python3.12/dist-packages/keras/src/layers/convolutional/base_conv.py:113: UserWarning: Do not pass an `input_shape`/`input_dim` argument to a layer. When using Sequential models, prefer using an `Input(shape)` object as the first layer in the model instead.\n",
            "  super().__init__(activity_regularizer=activity_regularizer, **kwargs)\n"
          ]
        },
        {
          "output_type": "stream",
          "name": "stdout",
          "text": [
            "Epoch 1/5\n",
            "\u001b[1m306/306\u001b[0m \u001b[32m━━━━━━━━━━━━━━━━━━━━\u001b[0m\u001b[37m\u001b[0m \u001b[1m6s\u001b[0m 16ms/step - accuracy: 0.6512 - loss: 3.2530\n",
            "Epoch 2/5\n",
            "\u001b[1m306/306\u001b[0m \u001b[32m━━━━━━━━━━━━━━━━━━━━\u001b[0m\u001b[37m\u001b[0m \u001b[1m5s\u001b[0m 18ms/step - accuracy: 0.8119 - loss: 0.5056\n",
            "Epoch 3/5\n",
            "\u001b[1m306/306\u001b[0m \u001b[32m━━━━━━━━━━━━━━━━━━━━\u001b[0m\u001b[37m\u001b[0m \u001b[1m10s\u001b[0m 17ms/step - accuracy: 0.8365 - loss: 0.3808\n",
            "Epoch 4/5\n",
            "\u001b[1m306/306\u001b[0m \u001b[32m━━━━━━━━━━━━━━━━━━━━\u001b[0m\u001b[37m\u001b[0m \u001b[1m9s\u001b[0m 14ms/step - accuracy: 0.8617 - loss: 0.3276\n",
            "Epoch 5/5\n",
            "\u001b[1m306/306\u001b[0m \u001b[32m━━━━━━━━━━━━━━━━━━━━\u001b[0m\u001b[37m\u001b[0m \u001b[1m6s\u001b[0m 20ms/step - accuracy: 0.8704 - loss: 0.2946\n",
            "Test Accuracy: 0.7866\n",
            "\n",
            "=== Fold 4: Test subjects (np.int64(7), np.int64(8)) ===\n",
            "Samples: 20258 (train) 4054 (test)\n"
          ]
        },
        {
          "output_type": "stream",
          "name": "stderr",
          "text": [
            "/usr/local/lib/python3.12/dist-packages/keras/src/layers/convolutional/base_conv.py:113: UserWarning: Do not pass an `input_shape`/`input_dim` argument to a layer. When using Sequential models, prefer using an `Input(shape)` object as the first layer in the model instead.\n",
            "  super().__init__(activity_regularizer=activity_regularizer, **kwargs)\n"
          ]
        },
        {
          "output_type": "stream",
          "name": "stdout",
          "text": [
            "Epoch 1/5\n",
            "\u001b[1m317/317\u001b[0m \u001b[32m━━━━━━━━━━━━━━━━━━━━\u001b[0m\u001b[37m\u001b[0m \u001b[1m5s\u001b[0m 13ms/step - accuracy: 0.6525 - loss: 3.2900\n",
            "Epoch 2/5\n",
            "\u001b[1m317/317\u001b[0m \u001b[32m━━━━━━━━━━━━━━━━━━━━\u001b[0m\u001b[37m\u001b[0m \u001b[1m7s\u001b[0m 18ms/step - accuracy: 0.7612 - loss: 0.5983\n",
            "Epoch 3/5\n",
            "\u001b[1m317/317\u001b[0m \u001b[32m━━━━━━━━━━━━━━━━━━━━\u001b[0m\u001b[37m\u001b[0m \u001b[1m9s\u001b[0m 13ms/step - accuracy: 0.8002 - loss: 0.4582\n",
            "Epoch 4/5\n",
            "\u001b[1m317/317\u001b[0m \u001b[32m━━━━━━━━━━━━━━━━━━━━\u001b[0m\u001b[37m\u001b[0m \u001b[1m6s\u001b[0m 20ms/step - accuracy: 0.8143 - loss: 0.4106\n",
            "Epoch 5/5\n",
            "\u001b[1m317/317\u001b[0m \u001b[32m━━━━━━━━━━━━━━━━━━━━\u001b[0m\u001b[37m\u001b[0m \u001b[1m4s\u001b[0m 13ms/step - accuracy: 0.8342 - loss: 0.3710\n",
            "Test Accuracy: 0.7129\n",
            "\n",
            "=== Fold 5: Test subjects (np.int64(9), np.int64(10)) ===\n",
            "Samples: 19030 (train) 5282 (test)\n"
          ]
        },
        {
          "output_type": "stream",
          "name": "stderr",
          "text": [
            "/usr/local/lib/python3.12/dist-packages/keras/src/layers/convolutional/base_conv.py:113: UserWarning: Do not pass an `input_shape`/`input_dim` argument to a layer. When using Sequential models, prefer using an `Input(shape)` object as the first layer in the model instead.\n",
            "  super().__init__(activity_regularizer=activity_regularizer, **kwargs)\n"
          ]
        },
        {
          "output_type": "stream",
          "name": "stdout",
          "text": [
            "Epoch 1/5\n",
            "\u001b[1m298/298\u001b[0m \u001b[32m━━━━━━━━━━━━━━━━━━━━\u001b[0m\u001b[37m\u001b[0m \u001b[1m6s\u001b[0m 17ms/step - accuracy: 0.6306 - loss: 4.5614\n",
            "Epoch 2/5\n",
            "\u001b[1m298/298\u001b[0m \u001b[32m━━━━━━━━━━━━━━━━━━━━\u001b[0m\u001b[37m\u001b[0m \u001b[1m5s\u001b[0m 16ms/step - accuracy: 0.7629 - loss: 0.6360\n",
            "Epoch 3/5\n",
            "\u001b[1m298/298\u001b[0m \u001b[32m━━━━━━━━━━━━━━━━━━━━\u001b[0m\u001b[37m\u001b[0m \u001b[1m4s\u001b[0m 13ms/step - accuracy: 0.8052 - loss: 0.4613\n",
            "Epoch 4/5\n",
            "\u001b[1m298/298\u001b[0m \u001b[32m━━━━━━━━━━━━━━━━━━━━\u001b[0m\u001b[37m\u001b[0m \u001b[1m5s\u001b[0m 16ms/step - accuracy: 0.8350 - loss: 0.3817\n",
            "Epoch 5/5\n",
            "\u001b[1m298/298\u001b[0m \u001b[32m━━━━━━━━━━━━━━━━━━━━\u001b[0m\u001b[37m\u001b[0m \u001b[1m5s\u001b[0m 17ms/step - accuracy: 0.8459 - loss: 0.3379\n",
            "Test Accuracy: 0.7741\n"
          ]
        }
      ]
    }
  ]
}
