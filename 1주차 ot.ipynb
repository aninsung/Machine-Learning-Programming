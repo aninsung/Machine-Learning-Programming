{
 "cells": [
  {
   "cell_type": "markdown",
   "id": "e892e317-d907-419c-92a6-f681b63d8013",
   "metadata": {},
   "source": [
    "기계학습 프로그래밍\n",
    "\n",
    "1주차\n",
    "실기 시험 - 자신의 깃허브 만을 이용하여 코드 작성\n",
    "\n",
    "점수 채점\n",
    "중간(실습),기말: 30점\n",
    "깃허브 과제 업로드:30점\n",
    "출석:10점\n",
    "\n",
    "인공 지능:사람이 만들어 낸 지능\n",
    "\n",
    "regression(회귀),classification(분류)-> 차이점: 이산적인 값을 나눈다(분류),연속적인 값을 예측(회귀)\n",
    "\n",
    "ex):94점을 예측->분류,회귀 둘다 해당함.(해석에 따라서)\n"
   ]
  },
  {
   "cell_type": "markdown",
   "id": "b62105bb-b42c-4611-a3ff-a08e9eb19793",
   "metadata": {},
   "source": [
    "## 인공지능 기초를 위한 FAQ \n",
    "\n",
    "\n",
    "\n",
    "#### 인공지능에서 지능에 해당하는 기능은 무엇인가?\n",
    "분류,회귀\n",
    "#### 인공지능의 종류 3가지에 대해서 설명하시오 (지도학습, 반지도학습, 강화학습)\n",
    "###### 지도학습,반지도: label이 있냐 없냐,강화학습: ai가 학습을 계속하면서 보상을 받는다.\n",
    "#### 전통적인 프로그래밍 방법과 인공지능 프로그램의 차이점은 무엇인가?\n",
    "###### 입력 데이터,규칙을 줘야 아웃풋이 나온다. 그러나 규칙 없어도 입력 데이터만 넣어도 아웃풋이 나온다.\n",
    "#### 딥러닝과 머신러닝의 차이점은 무엇인가?\n",
    "###### 머신러닝은 모델과 특징(feature)을 추출해 넣어서 학습,딥러닝은 모델을 넣어서 학습하면서 거기서 특징을 추출한다.\n",
    "딥러닝 장점:전문가 없어도 특징 추출 가능\n",
    "\n",
    "딥러닝 단점:딥러닝은 학습하면서 사고과정을 알수 없다(블랙박스)\n",
    "#### Classification과 Regression의 주된 차이점은?\n",
    "###### 이산적인 값을 나눈다(분류),연속적인 값을 예측(회귀)\n",
    "#### 머신러닝에서 차원의 저주(curse of dimensionality)란?\n",
    "#### Dimensionality Reduction는 왜 필요한가?\n",
    "#### Ridge와 Lasso의 공통점과 차이점? (Regularization, 규제 , Scaling)\n",
    "#### Overfitting vs. Underfitting\n",
    "#### Feature Engineering과 Feature Selection의 차이점은?\n",
    "#### 전처리(Preprocessing)의 목적과 방법? (노이즈, 이상치, 결측치)\n",
    "#### EDA(Explorary Data Analysis)란? 데이터의 특성 파악(분포, 상관관계)\n",
    "#### 회귀에서 절편과 기울기가 의미하는 바는? 딥러닝과 어떻게 연관되는가?\n",
    "#### Activation function 함수를 사용하는 이유? Softmax, Sigmoid 함수의 차이는?\n",
    "#### Forward propagation, Backward propagation이란?\n",
    "#### 손실함수란 무엇인가? 가장 많이 사용하는 손실함수 4가지 종류는?\n",
    "#### 옵티마이저(optimizer)란 무엇일까? 옵티마이저와 손실함수의 차이점은?\n",
    "#### 경사하강법 의미는? (확률적 경사하강법, 배치 경사하강법, 미치 배치경사하강법)\n",
    "#### 교차검증, K-fold 교차검증의 의미와 차이\n",
    "#### 하이퍼파라미터 튜닝이란 무엇인가?\n",
    "#### CNN의 합성곱의 역활은?\n",
    "#### CNN의 풀링층의 역활은?\n",
    "#### CNN의 Dense Layer의 역활은?\n",
    "#### CNN의 stride, filter의 역활? 필터의 가중치는 어떻게 결정되는가?\n",
    "#### RNN을 사용하는 이유와 한계점은?\n",
    "#### LSTM을 사용하는 이유와 한계점은?\n",
    "#### GRU을 사용하는 이유와 차별성은?\n",
    "#### 결정트리에서 불순도(Impurity) – 지니 계수(Gini Index)란 무엇인가?\n",
    "#### 앙상블이란 무엇인가?\n",
    "#### 부트 스트랩핑(bootstraping)이란 무엇인가?\n",
    "#### 배깅(Bagging)이란 무엇인가?\n",
    "#### 주성분 분석(PCA) 이란 무엇인가?\n",
    "#### Dense Layer란 무엇인가?"
   ]
  },
  {
   "cell_type": "code",
   "execution_count": null,
   "id": "be72fbe8-b60d-46fa-aa91-8f8816396a13",
   "metadata": {},
   "outputs": [],
   "source": []
  }
 ],
 "metadata": {
  "kernelspec": {
   "display_name": "Python 3 (ipykernel)",
   "language": "python",
   "name": "python3"
  },
  "language_info": {
   "codemirror_mode": {
    "name": "ipython",
    "version": 3
   },
   "file_extension": ".py",
   "mimetype": "text/x-python",
   "name": "python",
   "nbconvert_exporter": "python",
   "pygments_lexer": "ipython3",
   "version": "3.10.13"
  }
 },
 "nbformat": 4,
 "nbformat_minor": 5
}
