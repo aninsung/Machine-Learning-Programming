{
  "nbformat": 4,
  "nbformat_minor": 0,
  "metadata": {
    "colab": {
      "provenance": [],
      "gpuType": "V5E1",
      "mount_file_id": "https://github.com/aninsung/Machine-Learning-Programming/blob/main/4%EC%A3%BC%EC%B0%A8_mhealth_cnn%2Clstm%2Ccnn%2Blstm.ipynb",
      "authorship_tag": "ABX9TyMlwg4T9JioKmoSqI4pz62q",
      "include_colab_link": true
    },
    "kernelspec": {
      "name": "python3",
      "display_name": "Python 3"
    },
    "language_info": {
      "name": "python"
    },
    "accelerator": "TPU"
  },
  "cells": [
    {
      "cell_type": "markdown",
      "metadata": {
        "id": "view-in-github",
        "colab_type": "text"
      },
      "source": [
        "<a href=\"https://colab.research.google.com/github/aninsung/Machine-Learning-Programming/blob/main/4%EC%A3%BC%EC%B0%A8_mhealth_cnn%2Clstm%2Ccnn%2Blstm.ipynb\" target=\"_parent\"><img src=\"https://colab.research.google.com/assets/colab-badge.svg\" alt=\"Open In Colab\"/></a>"
      ]
    },
    {
      "cell_type": "markdown",
      "source": [
        "## (오늘 실습과제)\n",
        "\n",
        "Mhealth dataset으로 인간행동 분류하기\n",
        "\n",
        "일단 데이터 읽어서 subject 번호가 컬럼면에 포함된 통합 data frame 만들고 CNN, LSTM, CNN-LSTM 해보기.\n",
        "\n",
        "1. LLM(sLLM)을 제외한 어떤 모델을 써도 가능. 단 라이브러리 import 불가. 모델의 풀 소스가 있어야 함.\n",
        "\n",
        " 2. 10명을 1+2, 3+4, 4+5,.... 5개그룹으로 나눠 2명씩 테스트 데이터로 하면서 cross validation.\n",
        "\n",
        " 3. 데이터 증대는 안됨.\n",
        "\n",
        "4. 오직 모델로만 성능 향상\n",
        "\n",
        "5. 상위 30%씩 차등.\n",
        "\n",
        "6. 성적에 반영\n",
        "\n",
        "7. 11월15일까지. Github게시\n",
        "\n",
        "교차 평가로 평균 F1 기준.\n",
        "\n",
        "8. 본인이 완벽하게 소스 및 모델을 설명할 수 있어야 함. GPT를 쓰던 뭘 쓰던 그건 상관안함. 재현성이 보장되어야 함.\n",
        "--------------------------------------------------------------------------\n",
        "--------------------------------------------------------------------------"
      ],
      "metadata": {
        "id": "Kzbk4hbgc2Rx"
      }
    },
    {
      "cell_type": "markdown",
      "source": [
        "## 데이터설명\n",
        "📌 Dataset Summary\n",
        "\n",
        "Subjects: 10명 (다양한 프로필의 자원자)\n",
        "\n",
        "Activities: 12개\n",
        "\n",
        "Sensors: 3개 (가슴, 오른쪽 손목, 왼쪽 발목 → elastic strap으로 고정)\n",
        "\n",
        "측정 정보:\n",
        "\n",
        "Acceleration (가속도)\n",
        "\n",
        "Gyroscope (회전율)\n",
        "\n",
        "Magnetometer (자기장 방향)\n",
        "\n",
        "Chest sensor: 2-lead ECG 추가 (활동 인식에는 사용 안 함, 향후 연구용)\n",
        "\n",
        "Sampling Rate: 50 Hz\n",
        "\n",
        "환경: Out-of-lab, 제약 없이 자유롭게 활동 수행 (단, 최선을 다해 실행)\n",
        "\n",
        "📌 Activity Set (12 classes)\n",
        "\n",
        "정적 활동: Standing still, Sitting, Lying down\n",
        "\n",
        "일상/이동 활동: Walking, Climbing stairs, Cycling\n",
        "\n",
        "운동/역동적 활동: Jogging, Running, Jump front & back\n",
        "\n",
        "반복 동작: Waist bends, Arm elevation, Knees bending\n",
        "\n",
        "📌 특징\n",
        "\n",
        "ECG 포함: 운동 중 심전도 기록 → 부정맥, 심박수 모니터링, 운동 효과 분석 가능\n",
        "\n",
        "다양성 확보:\n",
        "\n",
        "동작 강도 차이 (예: Sitting vs. Running)\n",
        "\n",
        "속도 차이 (예: Walking vs. Jogging)\n",
        "\n",
        "다른 신체 부위 동작 (예: Arm elevation vs. Knees bending)\n",
        "\n",
        "실생활 반영: 실제 환경에서 수행되어 일반화 성능 높음"
      ],
      "metadata": {
        "id": "NYZGoj3bciYh"
      }
    },
    {
      "cell_type": "code",
      "source": [
        "import pandas as pd\n",
        "import glob\n",
        "import numpy as np\n",
        "\n",
        "# 1. 파일 리스트\n",
        "files = sorted(glob.glob(\"/content/drive/MyDrive/Colab Notebooks/mhealth+dataset/MHEALTHDATASET/mHealth_subject*.log\"))\n",
        "\n",
        "# 2. 컬럼 정의\n",
        "columns = [\n",
        "    \"chest_acc_x\",\"chest_acc_y\",\"chest_acc_z\",\n",
        "    \"ecg_1\",\"ecg_2\",\n",
        "    \"chest_gyro_x\",\"chest_gyro_y\",\"chest_gyro_z\",\n",
        "    \"chest_mag_x\",\"chest_mag_y\",\"chest_mag_z\",\n",
        "    \"ankle_acc_x\",\"ankle_acc_y\",\"ankle_acc_z\",\n",
        "    \"ankle_gyro_x\",\"ankle_gyro_y\",\"ankle_gyro_z\",\n",
        "    \"ankle_mag_x\",\"ankle_mag_y\",\"ankle_mag_z\",\n",
        "    \"wrist_acc_x\",\"wrist_acc_y\",\"wrist_acc_z\",\n",
        "    \"label\"\n",
        "]\n",
        "\n",
        "# 3. 각 파일 읽어서 subject_id 추가\n",
        "dfs = []\n",
        "for i, file in enumerate(files, start=1):\n",
        "    df = pd.read_csv(file, sep=\"\\s+\", header=None)\n",
        "    df.columns = columns\n",
        "    df[\"subject_id\"] = i\n",
        "    dfs.append(df)\n",
        "\n",
        "# 4. 통합 DataFrame\n",
        "data = pd.concat(dfs, ignore_index=True)\n"
      ],
      "metadata": {
        "id": "D1Aa1xO4LxT5",
        "colab": {
          "base_uri": "https://localhost:8080/"
        },
        "outputId": "c36a5a4b-5836-48df-8dff-4007b22c5c4a"
      },
      "execution_count": 71,
      "outputs": [
        {
          "output_type": "stream",
          "name": "stderr",
          "text": [
            "<>:24: SyntaxWarning: invalid escape sequence '\\s'\n",
            "<>:24: SyntaxWarning: invalid escape sequence '\\s'\n",
            "/tmp/ipython-input-4155912323.py:24: SyntaxWarning: invalid escape sequence '\\s'\n",
            "  df = pd.read_csv(file, sep=\"\\s+\", header=None)\n"
          ]
        }
      ]
    },
    {
      "cell_type": "code",
      "source": [
        "def create_windows(df, frame_size=100, hop_size=50):\n",
        "    X, y = [], []\n",
        "    data_values = df.drop([\"label\", \"subject_id\"], axis=1).values\n",
        "    labels = df[\"label\"].values\n",
        "    for i in range(0, len(data_values)-frame_size, hop_size):\n",
        "        X.append(data_values[i:i+frame_size])\n",
        "        y.append(labels[i+frame_size-1])  # 마지막 시점 label\n",
        "    return np.array(X), np.array(y)\n"
      ],
      "metadata": {
        "id": "md-2RokFUIAY"
      },
      "execution_count": 72,
      "outputs": []
    },
    {
      "cell_type": "code",
      "metadata": {
        "id": "38726812"
      },
      "source": [
        "from tensorflow.keras.models import Sequential\n",
        "from tensorflow.keras.layers import Conv1D, MaxPooling1D, Flatten, Dense, BatchNormalization, Dropout\n",
        "\n",
        "def build_cnn(timesteps, n_features, n_classes):\n",
        "    model = Sequential([\n",
        "        Conv1D(64, kernel_size=3, activation='relu', input_shape=(timesteps, n_features)),\n",
        "        BatchNormalization(),\n",
        "        MaxPooling1D(pool_size=2),\n",
        "        Dropout(0.3),\n",
        "        Conv1D(128, kernel_size=3, activation='relu'),\n",
        "        BatchNormalization(),\n",
        "        MaxPooling1D(pool_size=2),\n",
        "        Dropout(0.3),\n",
        "        Flatten(),\n",
        "        Dense(128, activation='relu'),\n",
        "        Dropout(0.3),\n",
        "        Dense(n_classes, activation='softmax')\n",
        "    ])\n",
        "    model.compile(optimizer='adam', loss='sparse_categorical_crossentropy', metrics=['accuracy'])\n",
        "    return model"
      ],
      "execution_count": 75,
      "outputs": []
    },
    {
      "cell_type": "code",
      "source": [
        "from sklearn.metrics import f1_score\n",
        "import numpy as np\n",
        "\n",
        "# 결과 저장용 리스트\n",
        "acc_list = []\n",
        "loss_list = []\n",
        "f1_list = []\n",
        "\n",
        "subjects = np.arange(1,11)\n",
        "folds = [(subjects[i], subjects[i+1]) for i in range(0,10,2)]\n",
        "\n",
        "for fold_idx, test_subjects in enumerate(folds, start=1):\n",
        "    # Train/Test 분리\n",
        "    test_data = data[data[\"subject_id\"].isin(test_subjects)]\n",
        "    train_data = data[~data[\"subject_id\"].isin(test_subjects)]\n",
        "\n",
        "    # 윈도우 생성\n",
        "    X_train, y_train = create_windows(train_data, frame_size=timesteps, hop_size=50)\n",
        "    X_test, y_test = create_windows(test_data, frame_size=timesteps, hop_size=50)\n",
        "\n",
        "    print(f\"\\n=== Fold {fold_idx}: Test subjects {test_subjects} ===\")\n",
        "    print(\"Samples:\", X_train.shape[0], \"(train)\", X_test.shape[0], \"(test)\")\n",
        "\n",
        "    # 모델 선택\n",
        "    # CNN, LSTM, CNN-LSTM 중 선택\n",
        "    model = build_cnn_lstm(timesteps, n_features, n_classes)\n",
        "    # 학습\n",
        "    model.fit(X_train, y_train, epochs=5, batch_size=64, verbose=1)\n",
        "\n",
        "    # 평가\n",
        "    loss, acc = model.evaluate(X_test, y_test, verbose=0)\n",
        "    y_pred = model.predict(X_test)\n",
        "    y_pred_classes = np.argmax(y_pred, axis=1)\n",
        "\n",
        "    # F1-score 계산 (다중 클래스는 'macro' 추천)\n",
        "    f1 = f1_score(y_test, y_pred_classes, average='macro')\n",
        "\n",
        "    print(f\"Test Accuracy: {acc:.4f}, Loss: {loss:.4f}, F1-score: {f1:.4f}\")\n",
        "\n",
        "    # 리스트에 저장\n",
        "    acc_list.append(acc)\n",
        "    loss_list.append(loss)\n",
        "    f1_list.append(f1)\n",
        "\n",
        "# Cross-validation 평균\n",
        "print(\"\\n=== Cross-validation Average ===\")\n",
        "print(f\"Average Accuracy: {np.mean(acc_list):.4f}\")\n",
        "print(f\"Average Loss: {np.mean(loss_list):.4f}\")\n",
        "print(f\"Average F1-score: {np.mean(f1_list):.4f}\")"
      ],
      "metadata": {
        "colab": {
          "base_uri": "https://localhost:8080/"
        },
        "id": "Rzs_f6pL2CmY",
        "outputId": "3dbaab4a-8106-461d-a88b-a486365d58d0"
      },
      "execution_count": 77,
      "outputs": [
        {
          "output_type": "stream",
          "name": "stdout",
          "text": [
            "\n",
            "=== Fold 1: Test subjects (np.int64(1), np.int64(2)) ===\n",
            "Samples: 19122 (train) 5190 (test)\n"
          ]
        },
        {
          "output_type": "stream",
          "name": "stderr",
          "text": [
            "/usr/local/lib/python3.12/dist-packages/keras/src/layers/convolutional/base_conv.py:113: UserWarning: Do not pass an `input_shape`/`input_dim` argument to a layer. When using Sequential models, prefer using an `Input(shape)` object as the first layer in the model instead.\n",
            "  super().__init__(activity_regularizer=activity_regularizer, **kwargs)\n"
          ]
        },
        {
          "output_type": "stream",
          "name": "stdout",
          "text": [
            "Epoch 1/5\n",
            "\u001b[1m299/299\u001b[0m \u001b[32m━━━━━━━━━━━━━━━━━━━━\u001b[0m\u001b[37m\u001b[0m \u001b[1m21s\u001b[0m 61ms/step - accuracy: 0.7048 - loss: 1.1067\n",
            "Epoch 2/5\n",
            "\u001b[1m299/299\u001b[0m \u001b[32m━━━━━━━━━━━━━━━━━━━━\u001b[0m\u001b[37m\u001b[0m \u001b[1m18s\u001b[0m 60ms/step - accuracy: 0.7925 - loss: 0.4755\n",
            "Epoch 3/5\n",
            "\u001b[1m299/299\u001b[0m \u001b[32m━━━━━━━━━━━━━━━━━━━━\u001b[0m\u001b[37m\u001b[0m \u001b[1m18s\u001b[0m 59ms/step - accuracy: 0.8238 - loss: 0.3838\n",
            "Epoch 4/5\n",
            "\u001b[1m299/299\u001b[0m \u001b[32m━━━━━━━━━━━━━━━━━━━━\u001b[0m\u001b[37m\u001b[0m \u001b[1m18s\u001b[0m 59ms/step - accuracy: 0.8474 - loss: 0.3348\n",
            "Epoch 5/5\n",
            "\u001b[1m299/299\u001b[0m \u001b[32m━━━━━━━━━━━━━━━━━━━━\u001b[0m\u001b[37m\u001b[0m \u001b[1m18s\u001b[0m 60ms/step - accuracy: 0.8510 - loss: 0.3190\n",
            "\u001b[1m163/163\u001b[0m \u001b[32m━━━━━━━━━━━━━━━━━━━━\u001b[0m\u001b[37m\u001b[0m \u001b[1m2s\u001b[0m 11ms/step\n",
            "Test Accuracy: 0.8291, Loss: 0.5507, F1-score: 0.6098\n",
            "\n",
            "=== Fold 2: Test subjects (np.int64(3), np.int64(4)) ===\n",
            "Samples: 19260 (train) 5052 (test)\n"
          ]
        },
        {
          "output_type": "stream",
          "name": "stderr",
          "text": [
            "/usr/local/lib/python3.12/dist-packages/keras/src/layers/convolutional/base_conv.py:113: UserWarning: Do not pass an `input_shape`/`input_dim` argument to a layer. When using Sequential models, prefer using an `Input(shape)` object as the first layer in the model instead.\n",
            "  super().__init__(activity_regularizer=activity_regularizer, **kwargs)\n"
          ]
        },
        {
          "output_type": "stream",
          "name": "stdout",
          "text": [
            "Epoch 1/5\n",
            "\u001b[1m301/301\u001b[0m \u001b[32m━━━━━━━━━━━━━━━━━━━━\u001b[0m\u001b[37m\u001b[0m \u001b[1m20s\u001b[0m 60ms/step - accuracy: 0.7165 - loss: 1.0601\n",
            "Epoch 2/5\n",
            "\u001b[1m301/301\u001b[0m \u001b[32m━━━━━━━━━━━━━━━━━━━━\u001b[0m\u001b[37m\u001b[0m \u001b[1m18s\u001b[0m 59ms/step - accuracy: 0.7923 - loss: 0.4691\n",
            "Epoch 3/5\n",
            "\u001b[1m301/301\u001b[0m \u001b[32m━━━━━━━━━━━━━━━━━━━━\u001b[0m\u001b[37m\u001b[0m \u001b[1m18s\u001b[0m 59ms/step - accuracy: 0.8254 - loss: 0.3754\n",
            "Epoch 4/5\n",
            "\u001b[1m301/301\u001b[0m \u001b[32m━━━━━━━━━━━━━━━━━━━━\u001b[0m\u001b[37m\u001b[0m \u001b[1m18s\u001b[0m 59ms/step - accuracy: 0.8411 - loss: 0.3434\n",
            "Epoch 5/5\n",
            "\u001b[1m301/301\u001b[0m \u001b[32m━━━━━━━━━━━━━━━━━━━━\u001b[0m\u001b[37m\u001b[0m \u001b[1m18s\u001b[0m 59ms/step - accuracy: 0.8512 - loss: 0.3185\n",
            "\u001b[1m158/158\u001b[0m \u001b[32m━━━━━━━━━━━━━━━━━━━━\u001b[0m\u001b[37m\u001b[0m \u001b[1m2s\u001b[0m 12ms/step\n",
            "Test Accuracy: 0.8040, Loss: 0.6626, F1-score: 0.5607\n",
            "\n",
            "=== Fold 3: Test subjects (np.int64(5), np.int64(6)) ===\n",
            "Samples: 19583 (train) 4729 (test)\n"
          ]
        },
        {
          "output_type": "stream",
          "name": "stderr",
          "text": [
            "/usr/local/lib/python3.12/dist-packages/keras/src/layers/convolutional/base_conv.py:113: UserWarning: Do not pass an `input_shape`/`input_dim` argument to a layer. When using Sequential models, prefer using an `Input(shape)` object as the first layer in the model instead.\n",
            "  super().__init__(activity_regularizer=activity_regularizer, **kwargs)\n"
          ]
        },
        {
          "output_type": "stream",
          "name": "stdout",
          "text": [
            "Epoch 1/5\n",
            "\u001b[1m306/306\u001b[0m \u001b[32m━━━━━━━━━━━━━━━━━━━━\u001b[0m\u001b[37m\u001b[0m \u001b[1m20s\u001b[0m 60ms/step - accuracy: 0.7226 - loss: 1.0708\n",
            "Epoch 2/5\n",
            "\u001b[1m306/306\u001b[0m \u001b[32m━━━━━━━━━━━━━━━━━━━━\u001b[0m\u001b[37m\u001b[0m \u001b[1m18s\u001b[0m 60ms/step - accuracy: 0.7934 - loss: 0.4779\n",
            "Epoch 3/5\n",
            "\u001b[1m306/306\u001b[0m \u001b[32m━━━━━━━━━━━━━━━━━━━━\u001b[0m\u001b[37m\u001b[0m \u001b[1m18s\u001b[0m 59ms/step - accuracy: 0.8298 - loss: 0.3826\n",
            "Epoch 4/5\n",
            "\u001b[1m306/306\u001b[0m \u001b[32m━━━━━━━━━━━━━━━━━━━━\u001b[0m\u001b[37m\u001b[0m \u001b[1m19s\u001b[0m 63ms/step - accuracy: 0.8417 - loss: 0.3462\n",
            "Epoch 5/5\n",
            "\u001b[1m306/306\u001b[0m \u001b[32m━━━━━━━━━━━━━━━━━━━━\u001b[0m\u001b[37m\u001b[0m \u001b[1m18s\u001b[0m 60ms/step - accuracy: 0.8551 - loss: 0.3138\n",
            "\u001b[1m148/148\u001b[0m \u001b[32m━━━━━━━━━━━━━━━━━━━━\u001b[0m\u001b[37m\u001b[0m \u001b[1m2s\u001b[0m 11ms/step\n",
            "Test Accuracy: 0.7928, Loss: 0.5461, F1-score: 0.6043\n",
            "\n",
            "=== Fold 4: Test subjects (np.int64(7), np.int64(8)) ===\n",
            "Samples: 20258 (train) 4054 (test)\n"
          ]
        },
        {
          "output_type": "stream",
          "name": "stderr",
          "text": [
            "/usr/local/lib/python3.12/dist-packages/keras/src/layers/convolutional/base_conv.py:113: UserWarning: Do not pass an `input_shape`/`input_dim` argument to a layer. When using Sequential models, prefer using an `Input(shape)` object as the first layer in the model instead.\n",
            "  super().__init__(activity_regularizer=activity_regularizer, **kwargs)\n"
          ]
        },
        {
          "output_type": "stream",
          "name": "stdout",
          "text": [
            "Epoch 1/5\n",
            "\u001b[1m317/317\u001b[0m \u001b[32m━━━━━━━━━━━━━━━━━━━━\u001b[0m\u001b[37m\u001b[0m \u001b[1m21s\u001b[0m 61ms/step - accuracy: 0.7237 - loss: 1.0404\n",
            "Epoch 2/5\n",
            "\u001b[1m317/317\u001b[0m \u001b[32m━━━━━━━━━━━━━━━━━━━━\u001b[0m\u001b[37m\u001b[0m \u001b[1m19s\u001b[0m 61ms/step - accuracy: 0.7949 - loss: 0.4522\n",
            "Epoch 3/5\n",
            "\u001b[1m317/317\u001b[0m \u001b[32m━━━━━━━━━━━━━━━━━━━━\u001b[0m\u001b[37m\u001b[0m \u001b[1m19s\u001b[0m 60ms/step - accuracy: 0.8223 - loss: 0.3852\n",
            "Epoch 4/5\n",
            "\u001b[1m317/317\u001b[0m \u001b[32m━━━━━━━━━━━━━━━━━━━━\u001b[0m\u001b[37m\u001b[0m \u001b[1m19s\u001b[0m 59ms/step - accuracy: 0.8362 - loss: 0.3411\n",
            "Epoch 5/5\n",
            "\u001b[1m317/317\u001b[0m \u001b[32m━━━━━━━━━━━━━━━━━━━━\u001b[0m\u001b[37m\u001b[0m \u001b[1m19s\u001b[0m 60ms/step - accuracy: 0.8506 - loss: 0.3080\n",
            "\u001b[1m127/127\u001b[0m \u001b[32m━━━━━━━━━━━━━━━━━━━━\u001b[0m\u001b[37m\u001b[0m \u001b[1m2s\u001b[0m 11ms/step\n",
            "Test Accuracy: 0.8029, Loss: 0.5372, F1-score: 0.6729\n",
            "\n",
            "=== Fold 5: Test subjects (np.int64(9), np.int64(10)) ===\n",
            "Samples: 19030 (train) 5282 (test)\n"
          ]
        },
        {
          "output_type": "stream",
          "name": "stderr",
          "text": [
            "/usr/local/lib/python3.12/dist-packages/keras/src/layers/convolutional/base_conv.py:113: UserWarning: Do not pass an `input_shape`/`input_dim` argument to a layer. When using Sequential models, prefer using an `Input(shape)` object as the first layer in the model instead.\n",
            "  super().__init__(activity_regularizer=activity_regularizer, **kwargs)\n"
          ]
        },
        {
          "output_type": "stream",
          "name": "stdout",
          "text": [
            "Epoch 1/5\n",
            "\u001b[1m298/298\u001b[0m \u001b[32m━━━━━━━━━━━━━━━━━━━━\u001b[0m\u001b[37m\u001b[0m \u001b[1m19s\u001b[0m 59ms/step - accuracy: 0.6989 - loss: 1.1208\n",
            "Epoch 2/5\n",
            "\u001b[1m298/298\u001b[0m \u001b[32m━━━━━━━━━━━━━━━━━━━━\u001b[0m\u001b[37m\u001b[0m \u001b[1m18s\u001b[0m 59ms/step - accuracy: 0.7844 - loss: 0.4896\n",
            "Epoch 3/5\n",
            "\u001b[1m298/298\u001b[0m \u001b[32m━━━━━━━━━━━━━━━━━━━━\u001b[0m\u001b[37m\u001b[0m \u001b[1m18s\u001b[0m 59ms/step - accuracy: 0.8195 - loss: 0.4010\n",
            "Epoch 4/5\n",
            "\u001b[1m298/298\u001b[0m \u001b[32m━━━━━━━━━━━━━━━━━━━━\u001b[0m\u001b[37m\u001b[0m \u001b[1m18s\u001b[0m 59ms/step - accuracy: 0.8353 - loss: 0.3541\n",
            "Epoch 5/5\n",
            "\u001b[1m298/298\u001b[0m \u001b[32m━━━━━━━━━━━━━━━━━━━━\u001b[0m\u001b[37m\u001b[0m \u001b[1m18s\u001b[0m 59ms/step - accuracy: 0.8488 - loss: 0.3304\n",
            "\u001b[1m166/166\u001b[0m \u001b[32m━━━━━━━━━━━━━━━━━━━━\u001b[0m\u001b[37m\u001b[0m \u001b[1m2s\u001b[0m 11ms/step\n",
            "Test Accuracy: 0.8200, Loss: 0.4372, F1-score: 0.6632\n",
            "\n",
            "=== Cross-validation Average ===\n",
            "Average Accuracy: 0.8098\n",
            "Average Loss: 0.5468\n",
            "Average F1-score: 0.6222\n"
          ]
        }
      ]
    }
  ]
}
